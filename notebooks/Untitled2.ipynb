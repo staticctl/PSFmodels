{
 "cells": [
  {
   "cell_type": "code",
   "execution_count": 1,
   "metadata": {},
   "outputs": [],
   "source": [
    "%load_ext autoreload\n",
    "%autoreload 2\n",
    "\n",
    "import perfplot\n",
    "import numpy as np\n",
    "from psfmodels.cuvec import vectorial_psf as cu_vpsf\n",
    "from psfmodels import vectorial_psf as c_vpsf\n",
    "from microscPSF.microscPSF import gLXYZFocalScan"
   ]
  },
  {
   "cell_type": "code",
   "execution_count": 2,
   "metadata": {},
   "outputs": [],
   "source": [
    "\n",
    "zrange = 3\n",
    "dxy = 0.05\n",
    "wvl = 0.550\n",
    "\n",
    "sf = 3\n",
    "params = {\n",
    "    'NA': 1.45,\n",
    "    'ti0' : 190,\n",
    "    'ni0' : 1.518,\n",
    "    'ni' : 1.518,\n",
    "    'tg0' : 170,\n",
    "    'tg' : 170,\n",
    "    'ng0' : 1.5150,\n",
    "    'ng' : 1.5150,\n",
    "    'ns' : 1.515,\n",
    "    'M' : 1,\n",
    "    'NA' : 1.4500,\n",
    "    'zd0': 200.0 * 1.0e+3\n",
    "}\n",
    "\n",
    "def microscpsf(nx):\n",
    "    zv = np.linspace(-zrange/2, zrange/2, nx//2)\n",
    "    return gLXYZFocalScan(params, dxy, nx, zv, wvl=wvl).shape\n",
    "\n",
    "def cuda_vec(nx):\n",
    "    zv = np.linspace(-zrange/2, zrange/2, nx//2)\n",
    "    return cu_vpsf(zv, nx=nx, dxy=dxy, params=params, wvl=wvl).shape\n",
    "\n",
    "def c_vec(nx):\n",
    "    zv = np.linspace(-zrange/2, zrange/2, nx//2)\n",
    "    return c_vpsf(zv, nx=nx, dxy=dxy, params=params, wvl=wvl).shape"
   ]
  },
  {
   "cell_type": "code",
   "execution_count": 4,
   "metadata": {},
   "outputs": [
    {
     "name": "stderr",
     "output_type": "stream",
     "text": [
      "\n",
      "\n",
      "  0%|          | 0/5 [00:00<?, ?it/s]\u001b[A\u001b[A\n",
      "\n",
      "\n",
      "  0%|          | 0/3 [00:00<?, ?it/s]\u001b[A\u001b[A\u001b[A\n",
      "\n",
      "\n",
      " 33%|███▎      | 1/3 [00:01<00:02,  1.03s/it]\u001b[A\u001b[A\u001b[A\n",
      "\n",
      "\n",
      " 67%|██████▋   | 2/3 [00:02<00:01,  1.02s/it]\u001b[A\u001b[A\u001b[A\n",
      "\n",
      "\n",
      "100%|██████████| 3/3 [00:02<00:00,  1.00it/s]\u001b[A\u001b[A\u001b[A\n",
      "\n",
      "\n",
      " 20%|██        | 1/5 [00:03<00:12,  3.04s/it]\u001b[A\u001b[A\n",
      "\n",
      "\n",
      "  0%|          | 0/3 [00:00<?, ?it/s]\u001b[A\u001b[A\u001b[A\n",
      "\n",
      "\n",
      " 33%|███▎      | 1/3 [00:01<00:02,  1.03s/it]\u001b[A\u001b[A\u001b[A\n",
      "\n",
      "\n",
      " 67%|██████▋   | 2/3 [00:02<00:01,  1.02s/it]\u001b[A\u001b[A\u001b[A\n",
      "\n",
      "\n",
      "100%|██████████| 3/3 [00:03<00:00,  1.01s/it]\u001b[A\u001b[A\u001b[A\n",
      "\n",
      "\n",
      " 40%|████      | 2/5 [00:06<00:09,  3.05s/it]\u001b[A\u001b[A\n",
      "\n",
      "\n",
      "  0%|          | 0/3 [00:00<?, ?it/s]\u001b[A\u001b[A\u001b[A\n",
      "\n",
      "\n",
      " 33%|███▎      | 1/3 [00:01<00:02,  1.06s/it]\u001b[A\u001b[A\u001b[A\n",
      "\n",
      "\n",
      " 67%|██████▋   | 2/3 [00:02<00:01,  1.07s/it]\u001b[A\u001b[A\u001b[A\n",
      "\n",
      "\n",
      "100%|██████████| 3/3 [00:03<00:00,  1.16s/it]\u001b[A\u001b[A\u001b[A\n",
      "\n",
      "\n",
      " 60%|██████    | 3/5 [00:09<00:06,  3.20s/it]\u001b[A\u001b[A\n",
      "\n",
      "\n",
      "  0%|          | 0/3 [00:00<?, ?it/s]\u001b[A\u001b[A\u001b[A\n",
      "\n",
      "\n",
      " 33%|███▎      | 1/3 [00:01<00:03,  1.71s/it]\u001b[A\u001b[A\u001b[A\n",
      "\n",
      "\n",
      " 67%|██████▋   | 2/3 [00:05<00:02,  2.44s/it]\u001b[A\u001b[A\u001b[A\n",
      "\n",
      "\n",
      "100%|██████████| 3/3 [00:49<00:00, 16.36s/it]\u001b[A\u001b[A\u001b[A\n",
      "\n",
      "\n",
      " 80%|████████  | 4/5 [00:59<00:17, 17.22s/it]\u001b[A\u001b[A\n",
      "\n",
      "\n",
      "  0%|          | 0/3 [00:00<?, ?it/s]\u001b[A\u001b[A\u001b[A\n",
      "\n",
      "\n",
      " 33%|███▎      | 1/3 [00:13<00:26, 13.22s/it]\u001b[A\u001b[A\u001b[A\n",
      "\n",
      "\n",
      " 67%|██████▋   | 2/3 [00:28<00:13, 13.96s/it]\u001b[A\u001b[A\u001b[A\n",
      "\n",
      "\n",
      "100%|██████████| 3/3 [06:19<00:00, 126.46s/it]\u001b[A\u001b[A\u001b[A\n",
      "\n",
      "\n",
      "100%|██████████| 5/5 [07:25<00:00, 89.12s/it] \u001b[A\u001b[A\n"
     ]
    },
    {
     "data": {
      "image/png": "[encoded data removed]",
      "text/plain": [
       "<Figure size 432x288 with 1 Axes>"
      ]
     },
     "metadata": {
      "needs_background": "light"
     },
     "output_type": "display_data"
    }
   ],
   "source": [
    "bench = perfplot.bench(\n",
    "    setup=lambda n: n,\n",
    "    kernels=[microscpsf, cuda_vec, c_vec],\n",
    "    n_range=[31, 63, 127, 511, 1023],\n",
    "    logx=True,\n",
    "    logy=True,\n",
    "    xlabel='nx (nz = nx // 2)'\n",
    ")\n",
    "bench.show()"
   ]
  },
  {
   "cell_type": "code",
   "execution_count": null,
   "metadata": {},
   "outputs": [],
   "source": []
  }
 ],
 "metadata": {
  "kernelspec": {
   "display_name": "Python 3",
   "language": "python",
   "name": "python3"
  },
  "language_info": {
   "codemirror_mode": {
    "name": "ipython",
    "version": 3
   },
   "file_extension": ".py",
   "mimetype": "text/x-python",
   "name": "python",
   "nbconvert_exporter": "python",
   "pygments_lexer": "ipython3",
   "version": "3.7.3"
  }
 },
 "nbformat": 4,
 "nbformat_minor": 4
}
