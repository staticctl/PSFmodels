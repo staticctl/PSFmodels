{
 "cells": [
  {
   "cell_type": "code",
   "execution_count": 1,
   "metadata": {},
   "outputs": [],
   "source": [
    "import numpy as np\n",
    "import cupy as cp\n",
    "import matplotlib.pyplot as plt\n",
    "from matplotlib.patches import Circle, Wedge\n",
    "from matplotlib.collections import PatchCollection, LineCollection"
   ]
  },
  {
   "cell_type": "code",
   "execution_count": 20,
   "metadata": {},
   "outputs": [],
   "source": [
    "xystep = 50 * 1e-9\n",
    "NA = 1.45\n",
    "sf = 3\n",
    "\n",
    "\n",
    "# params\n",
    "ti0 = 0.000190  # working distance\n",
    "ni0 = 1.518\n",
    "ni = 1.518\n",
    "tg0 = 0.000170\n",
    "tg = 0.000170\n",
    "ng0 = 1.515\n",
    "ng = 1.515\n",
    "ns = 1.33\n",
    "lamda = 550 * 1e-9\n",
    "\n",
    "\n",
    "# precompute some stuff\n",
    "k0 = 2 * np.pi / lamda  # angular wave number\n",
    "ni0_2 = ni0**2\n",
    "ni_2 = ni**2\n",
    "ng0_2 = ng0**2\n",
    "ng_2 = ng**2\n",
    "ns_2 = ns**2\n",
    "NA_2 = NA**2\n",
    "\n",
    "\n",
    "nx = 31\n",
    "zp, yp, xp = (0, 0, 0)"
   ]
  },
  {
   "cell_type": "code",
   "execution_count": 21,
   "metadata": {},
   "outputs": [
    {
     "data": {
      "image/png": "[encoded data removed]",
      "text/plain": [
       "<Figure size 432x288 with 1 Axes>"
      ]
     },
     "metadata": {
      "needs_background": "light"
     },
     "output_type": "display_data"
    }
   ],
   "source": [
    "alpha = np.arcsin(NA / ni)  # the half angle of collection\n",
    "\n",
    "fig, ax = plt.subplots()\n",
    "patches = [Wedge((0,0), 1, 90 - np.rad2deg(alpha), 90 + np.rad2deg(alpha), width=0.05)]\n",
    "lines = [[(0, 0), (np.sin(alpha), np.cos(alpha))],[(0, 0), (-np.sin(alpha), np.cos(alpha))]]\n",
    "ax.add_collection(PatchCollection(patches))\n",
    "ax.add_collection(LineCollection(lines, colors='k', linewidths=2))\n",
    "ax.set_xlim([-1, 1])\n",
    "ax.set_ylim([0, 1])\n",
    "ax.set_aspect('equal')\n",
    "ax.set_title('maximum collection angle')\n",
    "plt.show()"
   ]
  },
  {
   "cell_type": "code",
   "execution_count": 26,
   "metadata": {},
   "outputs": [],
   "source": [
    "# xymax = maximum xy pixels to calculate\n",
    "xymax = (nx * sf - 1) // 2\n",
    "xp *= sf / xystep\n",
    "yp *= sf / xystep\n",
    "# add some more in case the particle is offcentered\n",
    "rn = 1 + int(np.hypot(xp, yp))\n",
    "# rmax = the maximum radius we need to calculate\n",
    "# +1 for interpolation, dx, dy\n",
    "rmax = int(np.ceil(np.sqrt(2.0) * xymax) + rn + 1)\n",
    "# rvec are the radii in spatial units (m) at which we will calculate the integral\n",
    "rvec = cp.arange(rmax) * xystep / sf\n",
    "constJ = k0 * rvec * ni  # mnumber of wavelengths from center?\n",
    "ci = zp * (1.0 - ni / ns) + ni * (tg0 / ng0 + ti0 / ni0 - tg / ng)"
   ]
  },
  {
   "cell_type": "code",
   "execution_count": 27,
   "metadata": {},
   "outputs": [
    {
     "name": "stdout",
     "output_type": "stream",
     "text": [
      "xymax: 46 pixels\n",
      "rmax: 68 pixles\n"
     ]
    }
   ],
   "source": [
    "print(f\"xymax: {xymax} pixels\")\n",
    "print(f\"rmax: {rmax} pixles\")"
   ]
  },
  {
   "cell_type": "code",
   "execution_count": null,
   "metadata": {},
   "outputs": [],
   "source": []
  }
 ],
 "metadata": {
  "kernelspec": {
   "display_name": "Python 3",
   "language": "python",
   "name": "python3"
  },
  "language_info": {
   "codemirror_mode": {
    "name": "ipython",
    "version": 3
   },
   "file_extension": ".py",
   "mimetype": "text/x-python",
   "name": "python",
   "nbconvert_exporter": "python",
   "pygments_lexer": "ipython3",
   "version": "3.7.3"
  }
 },
 "nbformat": 4,
 "nbformat_minor": 4
}
